{
 "cells": [
  {
   "cell_type": "code",
   "execution_count": 1,
   "id": "f691ea01",
   "metadata": {},
   "outputs": [],
   "source": [
    "\"\"\"\n",
    "End-to-end RDR run over entity tokens in WikiNeural (English).\n",
    "\n",
    "Usage\n",
    "-----\n",
    "python -m scripts.run_rdr_llama_ent --layer 27 --k 8 --t 10 --split test_en\n",
    "python -m scripts.run_rdr_llama_ent --layer 27 --k 8 --t 10 --split test_en\n",
    "\"\"\"\n",
    "\n",
    "import sys\n",
    "sys.path.insert(0, '/data8/baek/dehallu/RDR')\n",
    "import os\n",
    "os.environ['CUDA_VISIBLE_DEVICES'] = '2'\n",
    "\n",
    "import argparse\n",
    "import numpy as np\n",
    "\n",
    "from models.language.llama_rdr          import LlamaRDR\n",
    "from models.language.config_utils       import getconfigs_entities, config_dist\n",
    "from models.rdr                         import RDR\n",
    "from utils.visualize_text           import visualize_entity\n",
    "from data.nlp import wikineural_ent, hallu"
   ]
  },
  {
   "cell_type": "code",
   "execution_count": 2,
   "id": "43c411a1",
   "metadata": {},
   "outputs": [],
   "source": [
    "class Args:\n",
    "    def __init__(self):\n",
    "        self.layer = 27\n",
    "        self.k = 8\n",
    "        self.t = 10\n",
    "        self.split = \"test_en\"\n",
    "        self.batch_size = 8\n",
    "        self.dataset = \"hallucination\"\n",
    "\n",
    "args = Args()"
   ]
  },
  {
   "cell_type": "code",
   "execution_count": 3,
   "id": "45c94668",
   "metadata": {},
   "outputs": [],
   "source": [
    "\n",
    "# 0  Load dataset & model\n",
    "if args.dataset == \"wikineural_ent\":\n",
    "    dataset = wikineural_ent.get_split(args.split)\n",
    "elif args.dataset == \"hallucination\":\n",
    "    dataset = hallu.get_split(args.split)\n",
    "else:\n",
    "    raise ValueError(f\"Unknown dataset: {args.dataset}\")\n"
   ]
  },
  {
   "cell_type": "code",
   "execution_count": 4,
   "id": "e7cebd63",
   "metadata": {},
   "outputs": [],
   "source": [
    "args.layer = 15"
   ]
  },
  {
   "cell_type": "code",
   "execution_count": 5,
   "id": "3c04b775",
   "metadata": {},
   "outputs": [
    {
     "data": {
      "application/vnd.jupyter.widget-view+json": {
       "model_id": "ab0fcb0f90014211b477c2138f0fc13e",
       "version_major": 2,
       "version_minor": 0
      },
      "text/plain": [
       "Loading checkpoint shards:   0%|          | 0/4 [00:00<?, ?it/s]"
      ]
     },
     "metadata": {},
     "output_type": "display_data"
    }
   ],
   "source": [
    "model   = LlamaRDR(target_layer=args.layer, capture_seq_pos=None)  # keep full seq"
   ]
  },
  {
   "cell_type": "code",
   "execution_count": 6,
   "id": "be17949c",
   "metadata": {},
   "outputs": [
    {
     "name": "stdout",
     "output_type": "stream",
     "text": [
      "Target sample index: 360  | entity = Seoul\n",
      "Target sample: The bustling capital of South Korea is Seoul.\n"
     ]
    }
   ],
   "source": [
    "# 1  Pick a random target instance\n",
    "rand_target = np.random.randint(len(dataset))\n",
    "rand_target = 360  # for debugging\n",
    "print(f\"Target sample index: {rand_target}  | entity = {dataset[rand_target]['entity']}\")\n",
    "print(f\"Target sample: {dataset[rand_target]['sentence']}\")"
   ]
  },
  {
   "cell_type": "code",
   "execution_count": 7,
   "id": "b8a420e5",
   "metadata": {},
   "outputs": [
    {
     "name": "stderr",
     "output_type": "stream",
     "text": [
      "Extracting features and configs: 100%|██████████| 51/51 [00:03<00:00, 15.96it/s]\n"
     ]
    }
   ],
   "source": [
    "\n",
    "# 2  Gather matrices\n",
    "feats, configs = getconfigs_entities(dataset, model,\n",
    "                                        batch_size=args.batch_size)"
   ]
  },
  {
   "cell_type": "code",
   "execution_count": 12,
   "id": "e9236c86",
   "metadata": {},
   "outputs": [
    {
     "name": "stdout",
     "output_type": "stream",
     "text": [
      "Nearest neighbours: [360 342 353 292 331 351 270 268 339 348 332 355 284 316 264]\n"
     ]
    }
   ],
   "source": [
    "\n",
    "# 3  Distances\n",
    "dists      = config_dist(configs, rand_target)\n",
    "neighbours = np.argsort(dists)\n",
    "print(f\"Nearest neighbours: {neighbours[:args.k]}\")"
   ]
  },
  {
   "cell_type": "code",
   "execution_count": null,
   "id": "7b1d7b3d",
   "metadata": {},
   "outputs": [],
   "source": [
    "args.k = 5\n",
    "args.t = 10"
   ]
  },
  {
   "cell_type": "code",
   "execution_count": 18,
   "id": "43403db5",
   "metadata": {},
   "outputs": [
    {
     "name": "stdout",
     "output_type": "stream",
     "text": [
      "4096\n",
      "4096\n"
     ]
    }
   ],
   "source": [
    "print(len(configs[0]))\n",
    "print(model.hidden_size)"
   ]
  },
  {
   "cell_type": "code",
   "execution_count": 13,
   "id": "fcebe934",
   "metadata": {},
   "outputs": [
    {
     "name": "stdout",
     "output_type": "stream",
     "text": [
      "15 decision boundaries are used for constructing relaxed decision region.\n",
      "The number of samples included in the Relaxed Decision Region: 15\n"
     ]
    }
   ],
   "source": [
    "# 4  RDR\n",
    "rdr   = RDR(neighbours, configs)\n",
    "samp, neurons, states = rdr.selection(k=args.k, t=args.t)"
   ]
  },
  {
   "cell_type": "code",
   "execution_count": 11,
   "id": "2117f8de",
   "metadata": {},
   "outputs": [
    {
     "name": "stdout",
     "output_type": "stream",
     "text": [
      "The capital city of Canada is \u001b[1;34mOttawa\u001b[0m.\n",
      "The country known as the Land of the Rising Sun is \u001b[1;34mJapan\u001b[0m.\n",
      "The first book of the Bible is \u001b[1;34mGenesis\u001b[0m.\n",
      "The fictional detective who lives at 221B Baker Street is \u001b[1;34mSherlock Holmes\u001b[0m.\n",
      "The largest planet in our Solar System is \u001b[1;34mJupiter\u001b[0m.\n",
      "The capital of the U.S. state of Georgia is \u001b[1;34mAtlanta\u001b[0m.\n",
      "The Roman goddess of love and beauty is \u001b[1;34mVenus\u001b[0m.\n",
      "The city where the Golden Gate Bridge is found is \u001b[1;34mSan Francisco\u001b[0m.\n",
      "The bustling capital of South Korea is \u001b[1;34mSeoul\u001b[0m.\n",
      "The largest moon of Jupiter is \u001b[1;34mGanymede\u001b[0m.\n",
      "The capital city of Australia is \u001b[1;34mCanberra\u001b[0m.\n",
      "The city where the Colosseum is located is \u001b[1;34mRome\u001b[0m.\n",
      "The Italian city famous for its canals is \u001b[1;34mVenice\u001b[0m.\n",
      "The basketball player known as His Airness is \u001b[1;34mMichael Jordan\u001b[0m.\n",
      "The Greek god of the sea is \u001b[1;34mPoseidon\u001b[0m.\n"
     ]
    }
   ],
   "source": [
    "# 5  Visualise\n",
    "visualize_entity(samp, dataset, print_max=100)"
   ]
  }
 ],
 "metadata": {
  "kernelspec": {
   "display_name": "dehallu",
   "language": "python",
   "name": "python3"
  },
  "language_info": {
   "codemirror_mode": {
    "name": "ipython",
    "version": 3
   },
   "file_extension": ".py",
   "mimetype": "text/x-python",
   "name": "python",
   "nbconvert_exporter": "python",
   "pygments_lexer": "ipython3",
   "version": "3.10.16"
  }
 },
 "nbformat": 4,
 "nbformat_minor": 5
}
